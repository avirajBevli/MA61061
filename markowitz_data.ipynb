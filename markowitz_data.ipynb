{
 "cells": [
  {
   "cell_type": "code",
   "execution_count": 186,
   "metadata": {},
   "outputs": [],
   "source": [
    "%matplotlib inline\n",
    "from pandas_datareader import data\n",
    "import matplotlib.pyplot as plt\n",
    "import pandas as pd\n",
    "import numpy as np\n",
    "import copy\n",
    "import cvxopt as opt\n",
    "from cvxopt import blas, solvers\n",
    "\n",
    "\n",
    "np.random.seed(123)\n",
    "\n",
    "# Turn off progress printing \n",
    "solvers.options['show_progress'] = False\n",
    "\n"
   ]
  },
  {
   "cell_type": "code",
   "execution_count": 224,
   "metadata": {},
   "outputs": [
    {
     "name": "stdout",
     "output_type": "stream",
     "text": [
      "Number of assets: 4\n"
     ]
    },
    {
     "name": "stderr",
     "output_type": "stream",
     "text": [
      "/usr/local/lib/python2.7/dist-packages/urllib3/util/ssl_.py:137: InsecurePlatformWarning: A true SSLContext object is not available. This prevents urllib3 from configuring SSL appropriately and may cause certain SSL connections to fail. You can upgrade to a newer version of Python to solve this. For more information, see https://urllib3.readthedocs.io/en/latest/advanced-usage.html#ssl-warnings\n",
      "  InsecurePlatformWarning\n",
      "/usr/local/lib/python2.7/dist-packages/urllib3/util/ssl_.py:137: InsecurePlatformWarning: A true SSLContext object is not available. This prevents urllib3 from configuring SSL appropriately and may cause certain SSL connections to fail. You can upgrade to a newer version of Python to solve this. For more information, see https://urllib3.readthedocs.io/en/latest/advanced-usage.html#ssl-warnings\n",
      "  InsecurePlatformWarning\n"
     ]
    },
    {
     "name": "stdout",
     "output_type": "stream",
     "text": [
      "<class 'pandas.core.panel.Panel'>\n",
      "Dimensions: 6 (items) x 12 (major_axis) x 4 (minor_axis)\n",
      "Items axis: Adj Close to Volume\n",
      "Major_axis axis: 2007-12-01 00:00:00 to 2007-01-01 00:00:00\n",
      "Minor_axis axis: AAPL to T\n"
     ]
    }
   ],
   "source": [
    "#Define the instruments to download. We would like to see Apple, Microsoft and the S&P500 index.\n",
    "tickers = ['AAPL', 'MSFT', 'T', 'GOOG']\n",
    "nAssets = len(tickers)\n",
    "print(\"Number of assets: %d\"%nAssets)\n",
    "\n",
    "# Define which online source one should use\n",
    "data_source = 'yahoo'\n",
    "\n",
    "# We would like all available data from 01/01/2000 until 12/31/2016.\n",
    "start_date = '2007-01-02'\n",
    "end_date = '2007-12-31'\n",
    "\n",
    "# User pandas_reader.data.DataReader to load the desired data. As simple as that.\n",
    "#trainingData = data.DataReader(tickers, data_source, start_date, end_date)['Adj Close']\n",
    "trainingData = data.get_data_yahoo(tickers, start_date, end_date, interval='m')\n",
    "\n",
    "# Getting just the adjusted closing prices. This will return a Pandas DataFrame\n",
    "# The index in this DataFrame is the major index of the panel_data.\n",
    "close = trainingData.ix['Adj Close']\n",
    "close = close.fillna(method='ffill')\n",
    "\n",
    "# Opening prices.\n",
    "start = trainingData.ix['Open']\n",
    "start = start.fillna(method='ffill')"
   ]
  },
  {
   "cell_type": "code",
   "execution_count": 225,
   "metadata": {},
   "outputs": [
    {
     "name": "stdout",
     "output_type": "stream",
     "text": [
      "('Starting prices: ', [12.327143, 29.91, 35.669998, 231.49435400000002])\n",
      "[Date\n",
      "2007-12-01    1.057776\n",
      "2007-11-01    0.893013\n",
      "2007-10-01    0.973317\n",
      "2007-09-01    0.594341\n",
      "2007-08-01    0.438615\n",
      "2007-07-01    0.368803\n",
      "2007-06-01    0.267826\n",
      "2007-05-01    0.258996\n",
      "2007-04-01    0.036784\n",
      "2007-03-01   -0.034794\n",
      "2007-02-01   -0.121019\n",
      "2007-01-01   -0.109384\n",
      "Freq: -1MS, Name: AAPL, dtype: float64, Date\n",
      "2007-12-01   -0.067479\n",
      "2007-11-01   -0.122768\n",
      "2007-10-01   -0.038961\n",
      "2007-09-01   -0.230855\n",
      "2007-08-01   -0.252534\n",
      "2007-07-01   -0.245770\n",
      "2007-06-01   -0.233282\n",
      "2007-05-01   -0.204119\n",
      "2007-04-01   -0.223569\n",
      "2007-03-01   -0.277250\n",
      "2007-02-01   -0.271995\n",
      "2007-01-01   -0.202476\n",
      "Freq: -1MS, Name: MSFT, dtype: float64, Date\n",
      "2007-12-01   -0.321192\n",
      "2007-11-01   -0.375909\n",
      "2007-10-01   -0.323206\n",
      "2007-09-01   -0.314785\n",
      "2007-08-01   -0.354301\n",
      "2007-07-01   -0.371296\n",
      "2007-06-01   -0.333728\n",
      "2007-05-01   -0.336297\n",
      "2007-04-01   -0.383986\n",
      "2007-03-01   -0.372690\n",
      "2007-02-01   -0.414532\n",
      "2007-01-01   -0.407585\n",
      "Freq: -1MS, Name: T, dtype: float64, Date\n",
      "2007-12-01    0.483863\n",
      "2007-11-01    0.487124\n",
      "2007-10-01    0.517167\n",
      "2007-09-01    0.217318\n",
      "2007-08-01    0.105687\n",
      "2007-07-01    0.094421\n",
      "2007-06-01    0.121674\n",
      "2007-05-01    0.068476\n",
      "2007-04-01    0.011545\n",
      "2007-03-01   -0.016824\n",
      "2007-02-01   -0.035515\n",
      "2007-01-01    0.076180\n",
      "Freq: -1MS, Name: GOOG, dtype: float64]\n",
      "4\n"
     ]
    },
    {
     "ename": "ValueError",
     "evalue": "cannot reshape array of size 4 into shape (2,1)",
     "output_type": "error",
     "traceback": [
      "\u001b[0;31m---------------------------------------------------------------------------\u001b[0m",
      "\u001b[0;31mValueError\u001b[0m                                Traceback (most recent call last)",
      "\u001b[0;32m<ipython-input-225-a0146e4c2337>\u001b[0m in \u001b[0;36m<module>\u001b[0;34m()\u001b[0m\n\u001b[1;32m     36\u001b[0m \u001b[0mreturns\u001b[0m \u001b[0;34m=\u001b[0m \u001b[0mcalculateReturns\u001b[0m\u001b[0;34m(\u001b[0m\u001b[0;34m)\u001b[0m\u001b[0;34m\u001b[0m\u001b[0m\n\u001b[1;32m     37\u001b[0m \u001b[0;32mprint\u001b[0m\u001b[0;34m(\u001b[0m\u001b[0mreturns\u001b[0m\u001b[0;34m)\u001b[0m\u001b[0;34m\u001b[0m\u001b[0m\n\u001b[0;32m---> 38\u001b[0;31m \u001b[0moptimalPortfolio\u001b[0m\u001b[0;34m,\u001b[0m \u001b[0mMus\u001b[0m \u001b[0;34m=\u001b[0m \u001b[0moptimalPortfolio\u001b[0m\u001b[0;34m(\u001b[0m\u001b[0mreturns\u001b[0m\u001b[0;34m)\u001b[0m\u001b[0;34m\u001b[0m\u001b[0m\n\u001b[0m\u001b[1;32m     39\u001b[0m \u001b[0;34m\u001b[0m\u001b[0m\n\u001b[1;32m     40\u001b[0m \u001b[0moptimalPortfolio\u001b[0m \u001b[0;34m=\u001b[0m \u001b[0moptimalPortfolio\u001b[0m\u001b[0;34m[\u001b[0m\u001b[0;34m'x'\u001b[0m\u001b[0;34m]\u001b[0m\u001b[0;34m\u001b[0m\u001b[0m\n",
      "\u001b[0;32m<ipython-input-225-a0146e4c2337>\u001b[0m in \u001b[0;36moptimalPortfolio\u001b[0;34m(Returns)\u001b[0m\n\u001b[1;32m     17\u001b[0m     \u001b[0;32mprint\u001b[0m\u001b[0;34m(\u001b[0m\u001b[0mn\u001b[0m\u001b[0;34m)\u001b[0m\u001b[0;34m\u001b[0m\u001b[0m\n\u001b[1;32m     18\u001b[0m     \u001b[0mmus\u001b[0m \u001b[0;34m=\u001b[0m \u001b[0mnp\u001b[0m\u001b[0;34m.\u001b[0m\u001b[0mmean\u001b[0m\u001b[0;34m(\u001b[0m\u001b[0mnp\u001b[0m\u001b[0;34m.\u001b[0m\u001b[0masarray\u001b[0m\u001b[0;34m(\u001b[0m\u001b[0mReturns\u001b[0m\u001b[0;34m)\u001b[0m\u001b[0;34m,\u001b[0m \u001b[0maxis\u001b[0m\u001b[0;34m=\u001b[0m\u001b[0;36m1\u001b[0m\u001b[0;34m)\u001b[0m\u001b[0;34m\u001b[0m\u001b[0m\n\u001b[0;32m---> 19\u001b[0;31m     \u001b[0mmus\u001b[0m \u001b[0;34m=\u001b[0m \u001b[0mnp\u001b[0m\u001b[0;34m.\u001b[0m\u001b[0mreshape\u001b[0m\u001b[0;34m(\u001b[0m\u001b[0mmus\u001b[0m\u001b[0;34m,\u001b[0m \u001b[0;34m(\u001b[0m\u001b[0;36m2\u001b[0m\u001b[0;34m,\u001b[0m\u001b[0;36m1\u001b[0m\u001b[0;34m)\u001b[0m\u001b[0;34m)\u001b[0m\u001b[0;34m\u001b[0m\u001b[0m\n\u001b[0m\u001b[1;32m     20\u001b[0m     \u001b[0mCov\u001b[0m \u001b[0;34m=\u001b[0m \u001b[0mopt\u001b[0m\u001b[0;34m.\u001b[0m\u001b[0mmatrix\u001b[0m\u001b[0;34m(\u001b[0m\u001b[0mnp\u001b[0m\u001b[0;34m.\u001b[0m\u001b[0mcov\u001b[0m\u001b[0;34m(\u001b[0m\u001b[0mReturns\u001b[0m\u001b[0;34m)\u001b[0m\u001b[0;34m)\u001b[0m\u001b[0;34m\u001b[0m\u001b[0m\n\u001b[1;32m     21\u001b[0m     \u001b[0mMus\u001b[0m \u001b[0;34m=\u001b[0m \u001b[0mopt\u001b[0m\u001b[0;34m.\u001b[0m\u001b[0mmatrix\u001b[0m\u001b[0;34m(\u001b[0m\u001b[0mmus\u001b[0m\u001b[0;34m)\u001b[0m\u001b[0;34m\u001b[0m\u001b[0m\n",
      "\u001b[0;32m/usr/local/lib/python2.7/dist-packages/numpy/core/fromnumeric.pyc\u001b[0m in \u001b[0;36mreshape\u001b[0;34m(a, newshape, order)\u001b[0m\n\u001b[1;32m    230\u001b[0m            [5, 6]])\n\u001b[1;32m    231\u001b[0m     \"\"\"\n\u001b[0;32m--> 232\u001b[0;31m     \u001b[0;32mreturn\u001b[0m \u001b[0m_wrapfunc\u001b[0m\u001b[0;34m(\u001b[0m\u001b[0ma\u001b[0m\u001b[0;34m,\u001b[0m \u001b[0;34m'reshape'\u001b[0m\u001b[0;34m,\u001b[0m \u001b[0mnewshape\u001b[0m\u001b[0;34m,\u001b[0m \u001b[0morder\u001b[0m\u001b[0;34m=\u001b[0m\u001b[0morder\u001b[0m\u001b[0;34m)\u001b[0m\u001b[0;34m\u001b[0m\u001b[0m\n\u001b[0m\u001b[1;32m    233\u001b[0m \u001b[0;34m\u001b[0m\u001b[0m\n\u001b[1;32m    234\u001b[0m \u001b[0;34m\u001b[0m\u001b[0m\n",
      "\u001b[0;32m/usr/local/lib/python2.7/dist-packages/numpy/core/fromnumeric.pyc\u001b[0m in \u001b[0;36m_wrapfunc\u001b[0;34m(obj, method, *args, **kwds)\u001b[0m\n\u001b[1;32m     55\u001b[0m \u001b[0;32mdef\u001b[0m \u001b[0m_wrapfunc\u001b[0m\u001b[0;34m(\u001b[0m\u001b[0mobj\u001b[0m\u001b[0;34m,\u001b[0m \u001b[0mmethod\u001b[0m\u001b[0;34m,\u001b[0m \u001b[0;34m*\u001b[0m\u001b[0margs\u001b[0m\u001b[0;34m,\u001b[0m \u001b[0;34m**\u001b[0m\u001b[0mkwds\u001b[0m\u001b[0;34m)\u001b[0m\u001b[0;34m:\u001b[0m\u001b[0;34m\u001b[0m\u001b[0m\n\u001b[1;32m     56\u001b[0m     \u001b[0;32mtry\u001b[0m\u001b[0;34m:\u001b[0m\u001b[0;34m\u001b[0m\u001b[0m\n\u001b[0;32m---> 57\u001b[0;31m         \u001b[0;32mreturn\u001b[0m \u001b[0mgetattr\u001b[0m\u001b[0;34m(\u001b[0m\u001b[0mobj\u001b[0m\u001b[0;34m,\u001b[0m \u001b[0mmethod\u001b[0m\u001b[0;34m)\u001b[0m\u001b[0;34m(\u001b[0m\u001b[0;34m*\u001b[0m\u001b[0margs\u001b[0m\u001b[0;34m,\u001b[0m \u001b[0;34m**\u001b[0m\u001b[0mkwds\u001b[0m\u001b[0;34m)\u001b[0m\u001b[0;34m\u001b[0m\u001b[0m\n\u001b[0m\u001b[1;32m     58\u001b[0m \u001b[0;34m\u001b[0m\u001b[0m\n\u001b[1;32m     59\u001b[0m     \u001b[0;31m# An AttributeError occurs if the object does not have\u001b[0m\u001b[0;34m\u001b[0m\u001b[0;34m\u001b[0m\u001b[0m\n",
      "\u001b[0;31mValueError\u001b[0m: cannot reshape array of size 4 into shape (2,1)"
     ]
    }
   ],
   "source": [
    "def calculateReturns():\n",
    "    X0 = [start[ticker].iloc[-1] for ticker in tickers]\n",
    "    print(\"Starting prices: \", X0)\n",
    "\n",
    "    Returns = []\n",
    "    # Closing price every day.\n",
    "    for i, ticker in enumerate(tickers):\n",
    "        closingPrices = close[ticker]\n",
    "        # Caclulate returns\n",
    "        calcReturn = lambda x: float(x - X0[i]) / X0[i]\n",
    "        Returns.append(closingPrices.apply(calcReturn))\n",
    "    return Returns\n",
    "    \n",
    "def optimalPortfolio(Returns):\n",
    "    # Calculate the expected Return for each asset.\n",
    "    n = len(Returns )\n",
    "    print(n)\n",
    "    mus = np.mean(np.asarray(Returns), axis=1)\n",
    "    mus = np.reshape(mus, (2,1))\n",
    "    Cov = opt.matrix(np.cov(Returns))\n",
    "    Mus = opt.matrix(mus)\n",
    "       \n",
    "    q = opt.matrix(np.zeros((n, 1)))\n",
    "    \n",
    "    # Create constraint matrices\n",
    "    retMin = 1.4\n",
    "    # w >= 0 and min return constraint.\n",
    "    G = -opt.matrix(np.concatenate((mus.T, np.eye(n))))   # negative n x n identity matrix\n",
    "    h = opt.matrix(np.concatenate((np.ones((1,1))*retMin ,np.zeros((n ,1)))))\n",
    "    A = opt.matrix(1.0, (1, n))\n",
    "    b = opt.matrix(1.0)\n",
    "    \n",
    "    # Calculate efficient frontier weights using quadratic programming\n",
    "    portfolio = solvers.qp(Cov, q, G, h, A, b)\n",
    "    return (portfolio, Mus)\n",
    "returns = calculateReturns()\n",
    "print(returns)\n",
    "optimalPortfolio, Mus = optimalPortfolio(returns)\n",
    "\n",
    "optimalPortfolio = optimalPortfolio['x']\n",
    "print(optimalPortfolio)\n"
   ]
  },
  {
   "cell_type": "code",
   "execution_count": 189,
   "metadata": {},
   "outputs": [
    {
     "name": "stdout",
     "output_type": "stream",
     "text": [
      "0.0018328223675\n"
     ]
    }
   ],
   "source": [
    "returns = blas.dot(Mus, optimalPortfolio)\n",
    "print(returns)"
   ]
  },
  {
   "cell_type": "code",
   "execution_count": 203,
   "metadata": {},
   "outputs": [
    {
     "name": "stdout",
     "output_type": "stream",
     "text": [
      "[[50, 50], [65.625929183434238, 50.000016025625648], [60.029153649029325, 33.33334401708376], [72.298393916814177, 35.613795549278777]]\n"
     ]
    }
   ],
   "source": [
    "def calc_kd(close_data):\n",
    "    K = [[50 for _ in tickers]]\n",
    "    D = [[50 for _ in tickers]]\n",
    "    low = [np.inf for _ in tickers]\n",
    "    high = [0 for _ in tickers]\n",
    "    ind=close_data.shape[0] - 1\n",
    "    \n",
    "    while ind > 0:\n",
    "        row = close_data.iloc[ind]\n",
    "        for t in range(n_ticks):\n",
    "            if row[t] < low[t]:\n",
    "                low[t] = row[t]\n",
    "            if row[t] > high[t]:\n",
    "                high[t] = row[t] \n",
    "\n",
    "        if row.name.is_month_end:\n",
    "            # calculate indices\n",
    "            k_list = [0 for _ in tickers]\n",
    "            d_list = [0 for i in tickers]\n",
    "            for t in range(n_ticks):\n",
    "                rsv = ((row[t] - low[t])*100.0) / (high[t] - low[t] + 0.1)\n",
    "                k = rsv*(1.0/3) + K[-1][t]*(2.0/3)\n",
    "\n",
    "                k_list[t]  = k\t\t\t\t\n",
    "                d = k*(1.0/3) + D[-1][t]*(2.0/3)\n",
    "#\t\t\t\tprint('d = ', d)\n",
    "                d_list[t]= d\n",
    "\t\t  \n",
    "#\t\t\tk_list = np.array(k_list)\n",
    "#\t\t\td_list = np.array(d_list)\n",
    "\t\t\t\n",
    "            K.append(copy.copy(k_list))\n",
    "            D.append(copy.copy(d_list))\n",
    "\t\t\t\n",
    "            low = [np.inf for _ in tickers]\n",
    "            high = [0 for _ in tickers]\n",
    "        ind -= 1\n",
    "  \n",
    "    return K,D\n",
    "\t\n",
    "K,D = calc_kd(close)\n",
    "print(K)"
   ]
  },
  {
   "cell_type": "code",
   "execution_count": null,
   "metadata": {
    "collapsed": true
   },
   "outputs": [],
   "source": [
    "def conservativeStrategy():\n",
    "    "
   ]
  },
  {
   "cell_type": "code",
   "execution_count": null,
   "metadata": {
    "collapsed": true
   },
   "outputs": [],
   "source": [
    "def getTestData():\n",
    "    start_date = '2008-01-02'\n",
    "    end_date = '2008-12-31'\n",
    "    testData = data.get_data_yahoo(tickers, start_date, end_date, interval='m')\n",
    "\n",
    "    # Getting just the adjusted closing prices. This will return a Pandas DataFrame\n",
    "    # The index in this DataFrame is the major index of the panel_data.\n",
    "    close = testData.ix['Adj Close']\n",
    "    close = close.fillna(method='ffill')\n",
    "\n",
    "    # Opening prices.\n",
    "    start = testData.ix['Open']\n",
    "    start = start.fillna(method='ffill')\n",
    "    return (start, close)"
   ]
  }
 ],
 "metadata": {
  "kernelspec": {
   "display_name": "Python 2",
   "language": "python",
   "name": "python2"
  },
  "language_info": {
   "codemirror_mode": {
    "name": "ipython",
    "version": 2
   },
   "file_extension": ".py",
   "mimetype": "text/x-python",
   "name": "python",
   "nbconvert_exporter": "python",
   "pygments_lexer": "ipython2",
   "version": "2.7.6"
  }
 },
 "nbformat": 4,
 "nbformat_minor": 2
}
