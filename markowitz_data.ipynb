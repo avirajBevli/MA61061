{
 "cells": [
  {
   "cell_type": "code",
   "execution_count": 434,
   "metadata": {},
   "outputs": [
    {
     "name": "stdout",
     "output_type": "stream",
     "text": [
      "Number of assets: 3\n"
     ]
    },
    {
     "name": "stderr",
     "output_type": "stream",
     "text": [
      "/usr/local/lib/python2.7/dist-packages/urllib3/util/ssl_.py:137: InsecurePlatformWarning: A true SSLContext object is not available. This prevents urllib3 from configuring SSL appropriately and may cause certain SSL connections to fail. You can upgrade to a newer version of Python to solve this. For more information, see https://urllib3.readthedocs.io/en/latest/advanced-usage.html#ssl-warnings\n",
      "  InsecurePlatformWarning\n",
      "/usr/local/lib/python2.7/dist-packages/urllib3/util/ssl_.py:137: InsecurePlatformWarning: A true SSLContext object is not available. This prevents urllib3 from configuring SSL appropriately and may cause certain SSL connections to fail. You can upgrade to a newer version of Python to solve this. For more information, see https://urllib3.readthedocs.io/en/latest/advanced-usage.html#ssl-warnings\n",
      "  InsecurePlatformWarning\n"
     ]
    }
   ],
   "source": [
    "%matplotlib inline\n",
    "from pandas_datareader import data\n",
    "import matplotlib.pyplot as plt\n",
    "import pandas as pd\n",
    "import numpy as np\n",
    "import copy\n",
    "import cvxopt as opt\n",
    "from cvxopt import blas, solvers\n",
    "\n",
    "\n",
    "np.random.seed(123)\n",
    "\n",
    "# Turn off progress printing \n",
    "solvers.options['show_progress'] = False\n",
    "\n",
    "#Define the instruments to download. We would like to see Apple, Microsoft and the S&P500 index.\n",
    "tickers = ['MSFT', 'T', 'GOOG']\n",
    "nAssets = len(tickers)\n",
    "print(\"Number of assets: %d\"%nAssets)\n",
    "\n",
    "# Define which online source one should use\n",
    "data_source = 'yahoo'\n",
    "\n",
    "# We would like all available data from 01/01/2000 until 12/31/2016.\n",
    "start_date = '2012-01-02'\n",
    "end_date = '2012-12-31'\n",
    "\n",
    "# User pandas_reader.data.DataReader to load the desired data. As simple as that.\n",
    "#trainingData = data.DataReader(tickers, data_source, start_date, end_date)['Adj Close']\n",
    "trainingData = data.get_data_yahoo(tickers, start_date, end_date)"
   ]
  },
  {
   "cell_type": "code",
   "execution_count": 435,
   "metadata": {},
   "outputs": [],
   "source": [
    "trainingData = trainingData.sort_index(axis=1)\n",
    "# Getting just the adjusted closing prices. This will return a Pandas DataFrame\n",
    "# The index in this DataFrame is the major index of the panel_data.\n",
    "trainingClose = trainingData.ix['Adj Close']\n",
    "trainingClose = trainingClose.fillna(method='ffill')\n",
    "#print(trainingClose)\n",
    "\n",
    "# Opening prices.\n",
    "trainingStart = trainingData.ix['Open']\n",
    "trainingStart = trainingStart.fillna(method='ffill')"
   ]
  },
  {
   "cell_type": "code",
   "execution_count": 437,
   "metadata": {},
   "outputs": [
    {
     "name": "stdout",
     "output_type": "stream",
     "text": [
      "('Mean returns: ', array([ 0.00036541,  0.00027977,  0.00067091]))\n",
      "[ 2.05e-04  3.59e-05  2.96e-05]\n",
      "[ 3.59e-05  1.70e-04  3.99e-05]\n",
      "[ 2.96e-05  3.99e-05  7.62e-05]\n",
      "\n",
      "('Returns: ', 0.13720299448738352)\n",
      "Risk : 0.007855\n",
      "[ 1.77e-01]\n",
      "[ 1.74e-01]\n",
      "[ 6.49e-01]\n",
      "\n"
     ]
    }
   ],
   "source": [
    "def calculateReturns(start, close):\n",
    "    X0 = [start[ticker].iloc[0] for ticker in tickers]\n",
    "    print(\"Starting prices: \", X0)\n",
    "\n",
    "    Returns = []\n",
    "    # Closing price every day.\n",
    "    for i, ticker in enumerate(tickers):\n",
    "        closingPrices = close[ticker]\n",
    "        # Caclulate returns\n",
    "        calcReturn = lambda x: float(x - X0[i]) / X0[i]\n",
    "        Returns.append(closingPrices.apply(calcReturn))\n",
    "    return Returns\n",
    "    \n",
    "def optimalPortfolio(Returns, retMin):\n",
    "    # Calculate the expected Return for each asset.\n",
    "    numDays = len(Returns)\n",
    "    mus = np.asarray(Returns.mean())\n",
    "    n = len(mus)\n",
    "    print(\"Mean returns: \", mus)\n",
    "    mus = np.reshape(mus, (len(mus), 1))\n",
    "\n",
    "    Cov = opt.matrix(np.cov(Returns.T))\n",
    "    print(Cov)\n",
    "    Mus = opt.matrix(mus)\n",
    "       \n",
    "    q = opt.matrix(np.zeros((n, 1)))\n",
    "    \n",
    "    # Create constraint matrices\n",
    "    # w >= 0 and min return constraint.\n",
    "    G = -opt.matrix(np.concatenate((mus.T, np.eye(n))))   # negative n x n identity matrix\n",
    "    h = opt.matrix(np.concatenate((-np.ones((1,1))*retMin ,np.zeros((n ,1)))))\n",
    "    A = opt.matrix(1.0, (1, n))\n",
    "    b = opt.matrix(1.0)\n",
    "    \n",
    "    # Calculate efficient frontier weights using quadratic programming\n",
    "    solution = solvers.qp(Cov, q, G, h, A, b)\n",
    "    portfolio = solution['x']\n",
    "    \n",
    "    returns = blas.dot(Mus, portfolio)*numDays\n",
    "    print(\"Returns: \", returns)\n",
    "    risk = np.sqrt(blas.dot(portfolio, Cov*portfolio))\n",
    "    print(\"Risk : %f\"%risk)\n",
    "    return (portfolio, Mus)\n",
    "\n",
    "#returns3 = calculateReturns(trainingStart, trainingClose)\n",
    "#np.mean(returns3, axis=1))\n",
    "returns = trainingClose.pct_change()\n",
    "returns = returns.fillna(method='bfill')\n",
    "retMin = 0.0001\n",
    "optimalPortfolio, Mus = optimalPortfolio(returns, retMin)\n",
    "\n",
    "optimalPortfolio = optimalPortfolio\n",
    "print( optimalPortfolio)\n"
   ]
  },
  {
   "cell_type": "code",
   "execution_count": 438,
   "metadata": {},
   "outputs": [
    {
     "data": {
      "text/plain": [
       "[381.54342700000001, 28.298154999999998, 29.307717999999998]"
      ]
     },
     "execution_count": 438,
     "metadata": {},
     "output_type": "execute_result"
    }
   ],
   "source": [
    "list(trainingClose.max())\n",
    "\n"
   ]
  },
  {
   "cell_type": "code",
   "execution_count": 439,
   "metadata": {},
   "outputs": [],
   "source": [
    "def calc_kd(close_data):\n",
    "    n_ticks = len(tickers)\n",
    "    K = [[50 for _ in tickers]]\n",
    "    D = [[50 for _ in tickers]]\n",
    "    low = list(close_data.min())\n",
    "    high = list(close_data.max())\n",
    "    ind = 0\n",
    "    \n",
    "    \n",
    "    while ind < close_data.shape[0]:\n",
    "        row = close_data.iloc[ind]\n",
    "\n",
    "        if 1:\n",
    "            # calculate indices\n",
    "            k_list = [0 for _ in tickers]\n",
    "            d_list = [0 for i in tickers]\n",
    "            for t in range(n_ticks):\n",
    "                if high[t] - low[t] == 0:\n",
    "                    rsv = 50\n",
    "                    #print(high[t])\n",
    "                else:\n",
    "                    rsv = ((row[t] - low[t])*100.0) / (high[t] - low[t])\n",
    "                k = rsv*(1.0/3) + K[-1][t]*(2.0/3)\n",
    "\n",
    "                k_list[t]  = k\t\t\t\t\n",
    "                d = k*(1.0/3) + D[-1][t]*(2.0/3)\n",
    "#\t\t\t\tprint('d = ', d)\n",
    "                d_list[t]= d\n",
    "\t\t  \n",
    "#\t\t\tk_list = np.array(k_list)\n",
    "#\t\t\td_list = np.array(d_list)\n",
    "\t\t\t\n",
    "            K.append(copy.copy(k_list))\n",
    "            D.append(copy.copy(d_list))\n",
    "\n",
    "        ind += 1\n",
    "  \n",
    "    return K,D\n",
    "#print(close.shape)\n",
    "#K,D = calc_kd(close)\n",
    "#print(K)\n",
    "\n",
    "def recursiveKD(Kn_, Dn_, Pn, Ln, Hn):\n",
    "    rsv = float(Pn - Ln)/(Hn - Ln) *100\n",
    "    Kn = rsv/3 + Kn_*2/3\n",
    "    Dn = Kn/3 + Dn_*2/3\n",
    "    return (Kn, Dn)\n",
    "        "
   ]
  },
  {
   "cell_type": "code",
   "execution_count": 440,
   "metadata": {},
   "outputs": [
    {
     "name": "stderr",
     "output_type": "stream",
     "text": [
      "/usr/local/lib/python2.7/dist-packages/urllib3/util/ssl_.py:137: InsecurePlatformWarning: A true SSLContext object is not available. This prevents urllib3 from configuring SSL appropriately and may cause certain SSL connections to fail. You can upgrade to a newer version of Python to solve this. For more information, see https://urllib3.readthedocs.io/en/latest/advanced-usage.html#ssl-warnings\n",
      "  InsecurePlatformWarning\n",
      "/usr/local/lib/python2.7/dist-packages/urllib3/util/ssl_.py:137: InsecurePlatformWarning: A true SSLContext object is not available. This prevents urllib3 from configuring SSL appropriately and may cause certain SSL connections to fail. You can upgrade to a newer version of Python to solve this. For more information, see https://urllib3.readthedocs.io/en/latest/advanced-usage.html#ssl-warnings\n",
      "  InsecurePlatformWarning\n"
     ]
    }
   ],
   "source": [
    "def getTestData():\n",
    "    start_date = '2013-01-02'\n",
    "    end_date = '2013-12-31'\n",
    "    testData = data.get_data_yahoo(tickers, start_date, end_date)\n",
    "    testData = testData.sort_index(axis=1)\n",
    "\n",
    "\n",
    "    # Getting just the adjusted closing prices. This will return a Pandas DataFrame\n",
    "    # The index in this DataFrame is the major index of the panel_data.\n",
    "    close = testData.ix['Adj Close']\n",
    "    close = close.fillna(method='ffill')\n",
    "\n",
    "    # Opening prices.\n",
    "    start = testData.ix['Open']\n",
    "    start = start.fillna(method='ffill')\n",
    "    return (start, close)\n",
    "\n",
    "testStart, testClose = getTestData()\n",
    "\n"
   ]
  },
  {
   "cell_type": "code",
   "execution_count": 442,
   "metadata": {
    "scrolled": false
   },
   "outputs": [
    {
     "name": "stdout",
     "output_type": "stream",
     "text": [
      "([70.733190676920813, 14.251331593416499, 56.598266133174292], [72.292707364914477, 17.264912687197885, 58.44897967827314])\n",
      "([70.812555639065693, 13.182374769746689, 56.851556079554591], [71.799323456298211, 15.904066714714151, 57.916505145366955])\n",
      "[-1, -1, -1]\n",
      "([70.733190676920813, 9.2684931605754031, 56.598266133174292], [72.292707364914477, 12.457192865218207, 58.44897967827314])\n",
      "([70.812555639065693, 8.1374194639207698, 56.851556079554591], [71.799323456298211, 11.017268398119061, 57.916505145366955])\n",
      "[-1, -1, -1]\n",
      "([70.733190676920813, 9.2684931605754031, 56.598266133174292], [72.292707364914477, 12.457192865218207, 58.44897967827314])\n",
      "([70.812555639065693, 8.1374194639207698, 56.851556079554591], [71.799323456298211, 11.017268398119061, 57.916505145366955])\n",
      "[-1, -1, -1]\n",
      "([70.733190676920813, 9.2684931605754031, 56.598266133174292], [72.292707364914477, 12.457192865218207, 58.44897967827314])\n",
      "([70.812555639065693, 8.1374194639207698, 56.851556079554591], [71.799323456298211, 11.017268398119061, 57.916505145366955])\n",
      "[-1, -1, -1]\n",
      "([70.733190676920813, 9.2684931605754031, 56.598266133174292], [72.292707364914477, 12.457192865218207, 58.44897967827314])\n",
      "([70.812555639065693, 8.1374194639207698, 56.851556079554591], [71.799323456298211, 11.017268398119061, 57.916505145366955])\n",
      "[-1, -1, -1]\n",
      "([70.733190676920813, 9.2684931605754031, 56.598266133174292], [72.292707364914477, 12.457192865218207, 58.44897967827314])\n",
      "([70.812555639065693, 8.1374194639207698, 56.851556079554591], [71.799323456298211, 11.017268398119061, 57.916505145366955])\n",
      "[-1, -1, -1]\n",
      "([70.733190676920813, 9.2684931605754031, 56.598266133174292], [72.292707364914477, 12.457192865218207, 58.44897967827314])\n",
      "([70.812555639065693, 8.1374194639207698, 56.851556079554591], [71.799323456298211, 11.017268398119061, 57.916505145366955])\n",
      "[-1, -1, -1]\n",
      "([70.733190676920813, 9.2684931605754031, 56.598266133174292], [72.292707364914477, 12.457192865218207, 58.44897967827314])\n",
      "([70.812555639065693, 8.1374194639207698, 56.851556079554591], [71.799323456298211, 11.017268398119061, 57.916505145366955])\n",
      "[-1, -1, -1]\n",
      "([70.733190676920813, 9.2684931605754031, 56.598266133174292], [72.292707364914477, 12.457192865218207, 58.44897967827314])\n",
      "([70.812555639065693, 8.1374194639207698, 56.851556079554591], [71.799323456298211, 11.017268398119061, 57.916505145366955])\n",
      "[-1, -1, -1]\n",
      "([70.733190676920813, 9.2684931605754031, 56.598266133174292], [72.292707364914477, 12.457192865218207, 58.44897967827314])\n",
      "([70.812555639065693, 8.1374194639207698, 56.851556079554591], [71.799323456298211, 11.017268398119061, 57.916505145366955])\n",
      "[-1, -1, -1]\n",
      "-0.0188110164905\n"
     ]
    }
   ],
   "source": [
    "testReturns = testClose.pct_change()\n",
    "testReturns = testReturns.fillna(method=\"bfill\")\n",
    "\n",
    "def calculateReturn(weights, returns, riskFreeRate):\n",
    "    returnsSum = np.sum(returns)\n",
    "    returns = np.matmul(returnsSum, weights)\n",
    "    \n",
    "    # Calculate risk free return\n",
    "    riskFreeWeight = 1 - np.sum(weights)\n",
    "    riskFreeReturn = riskFreeWeight * riskFreeRate\n",
    "    return returns + riskFreeReturn\n",
    "\n",
    "def getNextWindow(returnRates, newRate):\n",
    "    newReturnRates = returnRates.drop(returnRates.index[0])\n",
    "    newReturnRates.append(newRate)\n",
    "    return newReturnRates\n",
    "\n",
    "def getSignal(K, D):\n",
    "    \"Returns 1 for buy and 0 for sell and -1 for nothing.\"\n",
    "    Kn, Dn = K[-1], D[-1]\n",
    "    Kn_, Dn_ = K[-2], D[-2]\n",
    "    print(Kn_, Dn_)\n",
    "    print(Kn, Dn)\n",
    "    signals = []\n",
    "    for i in range(nAssets):\n",
    "        if Kn_[i] <= Dn_[i] and Kn[i] > Dn[i]:\n",
    "            signals.append(1)\n",
    "        elif Kn_[i] >= Dn_[i] and Kn[i] < Dn[i]:\n",
    "            signals.append(0)\n",
    "        else:\n",
    "            signals.append(-1)\n",
    "    assert(len(signals) == nAssets)\n",
    "    return signals\n",
    "\n",
    "def conservativeStrategy(returnRates, riskFreeRate):\n",
    "    portfolio = optimalPortfolio\n",
    "    dailyReturns = []\n",
    "    close = trainingClose\n",
    "    for i in range(10):\n",
    "        testDay = testReturns.iloc[[i]]\n",
    "        K, D = calc_kd(close)\n",
    "        #print(K)\n",
    "        #print(D)\n",
    "        signals = getSignal(K, D)\n",
    "        portfolio = []\n",
    "        print(signals)\n",
    "        \n",
    "        for i in range(nAssets):\n",
    "            signal = signals[i]\n",
    "            if signal:\n",
    "                portfolio.append(optimalPortfolio[i])\n",
    "            else:\n",
    "                portfolio.append(0)\n",
    "        returns = calculateReturn(portfolio, testDay, riskFreeRate)\n",
    "        dailyReturns.append(returns)\n",
    "        # Get training Windown by deleting the first row and adding the lates data.\n",
    "        returnRates = getNextWindow(returnRates, testDay)\n",
    "        close = getNextWindow(close, testClose.iloc[[i]])\n",
    "    return dailyReturns\n",
    "\n",
    "riskFreeRate = 0.0001\n",
    "dailyReturns = conservativeStrategy(testReturns, riskFreeRate)\n",
    "print(np.sum(dailyReturns))"
   ]
  },
  {
   "cell_type": "code",
   "execution_count": null,
   "metadata": {
    "collapsed": true
   },
   "outputs": [],
   "source": []
  },
  {
   "cell_type": "code",
   "execution_count": null,
   "metadata": {
    "collapsed": true
   },
   "outputs": [],
   "source": []
  }
 ],
 "metadata": {
  "kernelspec": {
   "display_name": "Python 2",
   "language": "python",
   "name": "python2"
  },
  "language_info": {
   "codemirror_mode": {
    "name": "ipython",
    "version": 2
   },
   "file_extension": ".py",
   "mimetype": "text/x-python",
   "name": "python",
   "nbconvert_exporter": "python",
   "pygments_lexer": "ipython2",
   "version": "2.7.6"
  }
 },
 "nbformat": 4,
 "nbformat_minor": 2
}
